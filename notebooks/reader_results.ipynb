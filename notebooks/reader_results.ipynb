{
 "cells": [
  {
   "cell_type": "code",
   "execution_count": 4,
   "metadata": {},
   "outputs": [],
   "source": [
    "import sys\n",
    "sys.path.append(\"..\")\n",
    "\n",
    "from pynas.train.viz import plot_population_metrics, plot_best_metrics\n",
    "\n",
    "# Plot the distribution of fitness, metric, fps, and params for each generation\n",
    "folder = \"/Data_large/marine/PythonProjects/OtherProjects/lpl-PyNas/Results/models_traced_20250407_143756/src\"\n",
    "plot_population_metrics(folder, num_generations=15, output_path=None)\n",
    "plot_best_metrics(folder, num_generations=15, output_path=None)\n"
   ]
  }
 ],
 "metadata": {
  "kernelspec": {
   "display_name": "pynas",
   "language": "python",
   "name": "python3"
  },
  "language_info": {
   "codemirror_mode": {
    "name": "ipython",
    "version": 3
   },
   "file_extension": ".py",
   "mimetype": "text/x-python",
   "name": "python",
   "nbconvert_exporter": "python",
   "pygments_lexer": "ipython3",
   "version": "3.8.20"
  }
 },
 "nbformat": 4,
 "nbformat_minor": 2
}
